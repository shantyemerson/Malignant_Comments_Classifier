{
 "cells": [
  {
   "cell_type": "code",
   "execution_count": 18,
   "id": "94011b75",
   "metadata": {},
   "outputs": [],
   "source": [
    "#loading libraries\n",
    "import pandas as pd\n",
    "import numpy as np\n",
    "import matplotlib.pyplot as plt\n",
    "import matplotlib.cm as cm\n",
    "import itertools\n",
    "import seaborn as sns\n",
    "\n",
    "from sklearn.metrics import hamming_loss\n",
    "from sklearn.metrics import accuracy_score\n",
    "from sklearn.metrics import log_loss\n",
    "\n",
    "from sklearn.model_selection import train_test_split\n",
    "from sklearn.feature_extraction.text import TfidfVectorizer\n",
    "from sklearn.naive_bayes import MultinomialNB\n",
    "from sklearn.naive_bayes import ComplementNB\n",
    "from sklearn.ensemble import AdaBoostClassifier\n",
    "from skmultilearn.problem_transform import BinaryRelevance\n",
    "from sklearn.svm import SVC\n",
    "from sklearn.model_selection import GridSearchCV\n",
    "from sklearn.model_selection import KFold\n",
    "from sklearn.metrics import accuracy_score, confusion_matrix, classification_report, f1_score,plot_roc_curve"
   ]
  },
  {
   "cell_type": "code",
   "execution_count": 2,
   "id": "eb4a5ee3",
   "metadata": {},
   "outputs": [
    {
     "data": {
      "text/html": [
       "<div>\n",
       "<style scoped>\n",
       "    .dataframe tbody tr th:only-of-type {\n",
       "        vertical-align: middle;\n",
       "    }\n",
       "\n",
       "    .dataframe tbody tr th {\n",
       "        vertical-align: top;\n",
       "    }\n",
       "\n",
       "    .dataframe thead th {\n",
       "        text-align: right;\n",
       "    }\n",
       "</style>\n",
       "<table border=\"1\" class=\"dataframe\">\n",
       "  <thead>\n",
       "    <tr style=\"text-align: right;\">\n",
       "      <th></th>\n",
       "      <th>comment_text</th>\n",
       "      <th>malignant</th>\n",
       "      <th>highly_malignant</th>\n",
       "      <th>rude</th>\n",
       "      <th>threat</th>\n",
       "      <th>abuse</th>\n",
       "      <th>loathe</th>\n",
       "      <th>clean_comment</th>\n",
       "    </tr>\n",
       "  </thead>\n",
       "  <tbody>\n",
       "    <tr>\n",
       "      <th>0</th>\n",
       "      <td>explanation why the edits made under my userna...</td>\n",
       "      <td>0</td>\n",
       "      <td>0</td>\n",
       "      <td>0</td>\n",
       "      <td>0</td>\n",
       "      <td>0</td>\n",
       "      <td>0</td>\n",
       "      <td>explanation edits made username hardcore metal...</td>\n",
       "    </tr>\n",
       "    <tr>\n",
       "      <th>1</th>\n",
       "      <td>d aww he matches this background colour i m se...</td>\n",
       "      <td>0</td>\n",
       "      <td>0</td>\n",
       "      <td>0</td>\n",
       "      <td>0</td>\n",
       "      <td>0</td>\n",
       "      <td>0</td>\n",
       "      <td>aww match background colour seemingly stuck th...</td>\n",
       "    </tr>\n",
       "    <tr>\n",
       "      <th>2</th>\n",
       "      <td>hey man i m really not trying to edit war it s...</td>\n",
       "      <td>0</td>\n",
       "      <td>0</td>\n",
       "      <td>0</td>\n",
       "      <td>0</td>\n",
       "      <td>0</td>\n",
       "      <td>0</td>\n",
       "      <td>hey man really trying edit war guy constantly ...</td>\n",
       "    </tr>\n",
       "    <tr>\n",
       "      <th>3</th>\n",
       "      <td>more i ca not make any real suggestions on im...</td>\n",
       "      <td>0</td>\n",
       "      <td>0</td>\n",
       "      <td>0</td>\n",
       "      <td>0</td>\n",
       "      <td>0</td>\n",
       "      <td>0</td>\n",
       "      <td>make real suggestion improvement wondered sect...</td>\n",
       "    </tr>\n",
       "    <tr>\n",
       "      <th>4</th>\n",
       "      <td>you sir are my hero any chance you remember wh...</td>\n",
       "      <td>0</td>\n",
       "      <td>0</td>\n",
       "      <td>0</td>\n",
       "      <td>0</td>\n",
       "      <td>0</td>\n",
       "      <td>0</td>\n",
       "      <td>sir hero chance remember page</td>\n",
       "    </tr>\n",
       "  </tbody>\n",
       "</table>\n",
       "</div>"
      ],
      "text/plain": [
       "                                        comment_text  malignant  \\\n",
       "0  explanation why the edits made under my userna...          0   \n",
       "1  d aww he matches this background colour i m se...          0   \n",
       "2  hey man i m really not trying to edit war it s...          0   \n",
       "3   more i ca not make any real suggestions on im...          0   \n",
       "4  you sir are my hero any chance you remember wh...          0   \n",
       "\n",
       "   highly_malignant  rude  threat  abuse  loathe  \\\n",
       "0                 0     0       0      0       0   \n",
       "1                 0     0       0      0       0   \n",
       "2                 0     0       0      0       0   \n",
       "3                 0     0       0      0       0   \n",
       "4                 0     0       0      0       0   \n",
       "\n",
       "                                       clean_comment  \n",
       "0  explanation edits made username hardcore metal...  \n",
       "1  aww match background colour seemingly stuck th...  \n",
       "2  hey man really trying edit war guy constantly ...  \n",
       "3  make real suggestion improvement wondered sect...  \n",
       "4                      sir hero chance remember page  "
      ]
     },
     "execution_count": 2,
     "metadata": {},
     "output_type": "execute_result"
    }
   ],
   "source": [
    "# Uploading preprocessed data and dropping unnecessary column.\n",
    "data = pd.read_csv('final_train.csv')\n",
    "data.drop('Unnamed: 0',axis=1,inplace=True)\n",
    "data.head()"
   ]
  },
  {
   "cell_type": "code",
   "execution_count": 3,
   "id": "d283390b",
   "metadata": {},
   "outputs": [
    {
     "data": {
      "text/plain": [
       "comment_text          0\n",
       "malignant             0\n",
       "highly_malignant      0\n",
       "rude                  0\n",
       "threat                0\n",
       "abuse                 0\n",
       "loathe                0\n",
       "clean_comment       129\n",
       "dtype: int64"
      ]
     },
     "execution_count": 3,
     "metadata": {},
     "output_type": "execute_result"
    }
   ],
   "source": [
    "# Checking null values.\n",
    "data.isna().sum()"
   ]
  },
  {
   "cell_type": "code",
   "execution_count": 4,
   "id": "460fda92",
   "metadata": {},
   "outputs": [],
   "source": [
    "# Removing all null values.\n",
    "data.dropna(inplace = True)"
   ]
  },
  {
   "cell_type": "code",
   "execution_count": 5,
   "id": "496e5352",
   "metadata": {},
   "outputs": [],
   "source": [
    "# Vectorizing with TDIDF vectorizer.\n",
    "tfidf = TfidfVectorizer()\n",
    "\n",
    "feature1 = tfidf.fit_transform(data['clean_comment'])"
   ]
  },
  {
   "cell_type": "markdown",
   "id": "6a0fcba7",
   "metadata": {},
   "source": [
    "#### TRAIN TEST SPLIT"
   ]
  },
  {
   "cell_type": "code",
   "execution_count": 6,
   "id": "f43ebe7c",
   "metadata": {},
   "outputs": [],
   "source": [
    "# Assigning data for modelling.\n",
    "X = feature1\n",
    "y = data['malignant']"
   ]
  },
  {
   "cell_type": "code",
   "execution_count": 7,
   "id": "0504b7a1",
   "metadata": {},
   "outputs": [],
   "source": [
    "X_train, X_test, y_train, y_test = train_test_split(X,\n",
    "                                                   y,\n",
    "                                                   test_size = 0.3,\n",
    "                                                   random_state = 42)"
   ]
  },
  {
   "cell_type": "code",
   "execution_count": 8,
   "id": "3efe6438",
   "metadata": {},
   "outputs": [],
   "source": [
    "# Defining function to calculate losses.\n",
    "def evaluate_score(y_test,y_pred): \n",
    "    loss = hamming_loss(y_test,y_pred)\n",
    "    print(\"Hamming_loss : {}\".format(loss*100))\n",
    "    accuracy = accuracy_score(y_test,y_pred)\n",
    "    print(\"Accuracy : {}\".format(accuracy*100))\n",
    "    try : \n",
    "        loss = log_loss(y_test,y_pred)\n",
    "    except :\n",
    "        loss = log_loss(y_test,y_pred.toarray())\n",
    "    print(\"Log_loss : {}\".format(loss))"
   ]
  },
  {
   "cell_type": "markdown",
   "id": "c8f6e79c",
   "metadata": {},
   "source": [
    "### MODELLING"
   ]
  },
  {
   "cell_type": "markdown",
   "id": "3690cc9e",
   "metadata": {},
   "source": [
    "### 1.Multinomial Naive Bayes Classifier"
   ]
  },
  {
   "cell_type": "markdown",
   "id": "472998c2",
   "metadata": {},
   "source": [
    "**The multinomial Naive Bayes classifier is suitable for classification with discrete features (e.g., word counts for text classification).**"
   ]
  },
  {
   "cell_type": "code",
   "execution_count": 9,
   "id": "8fa2b975",
   "metadata": {},
   "outputs": [
    {
     "data": {
      "text/plain": [
       "MultinomialNB()"
      ]
     },
     "execution_count": 9,
     "metadata": {},
     "output_type": "execute_result"
    }
   ],
   "source": [
    "model = MultinomialNB()\n",
    "model.fit(X_train, y_train)"
   ]
  },
  {
   "cell_type": "code",
   "execution_count": 10,
   "id": "47646017",
   "metadata": {},
   "outputs": [],
   "source": [
    "y_pred = model.predict(X_test)"
   ]
  },
  {
   "cell_type": "code",
   "execution_count": 11,
   "id": "9a96d1d2",
   "metadata": {},
   "outputs": [
    {
     "name": "stdout",
     "output_type": "stream",
     "text": [
      "              precision    recall  f1-score   support\n",
      "\n",
      "           0       0.92      1.00      0.96     43238\n",
      "           1       0.99      0.18      0.30      4595\n",
      "\n",
      "    accuracy                           0.92     47833\n",
      "   macro avg       0.95      0.59      0.63     47833\n",
      "weighted avg       0.93      0.92      0.89     47833\n",
      "\n"
     ]
    }
   ],
   "source": [
    "print(classification_report(y_test, y_pred))"
   ]
  },
  {
   "cell_type": "code",
   "execution_count": 12,
   "id": "410cb094",
   "metadata": {},
   "outputs": [
    {
     "name": "stdout",
     "output_type": "stream",
     "text": [
      "Hamming_loss : 7.9380344113896255\n",
      "Accuracy : 92.06196558861038\n",
      "Log_loss : 2.7417001226653186\n"
     ]
    }
   ],
   "source": [
    " evaluate_score(y_test, y_pred)"
   ]
  },
  {
   "cell_type": "markdown",
   "id": "54c3f323",
   "metadata": {},
   "source": [
    "### 2.Complement Naive Bayes Classifier"
   ]
  },
  {
   "cell_type": "code",
   "execution_count": 13,
   "id": "4510a156",
   "metadata": {},
   "outputs": [
    {
     "data": {
      "text/plain": [
       "ComplementNB()"
      ]
     },
     "execution_count": 13,
     "metadata": {},
     "output_type": "execute_result"
    }
   ],
   "source": [
    "model2 = ComplementNB()\n",
    "model2.fit(X_train, y_train)"
   ]
  },
  {
   "cell_type": "code",
   "execution_count": 14,
   "id": "1be80f60",
   "metadata": {},
   "outputs": [],
   "source": [
    "y_preds = model2.predict(X_test)"
   ]
  },
  {
   "cell_type": "code",
   "execution_count": 15,
   "id": "0d7ea586",
   "metadata": {},
   "outputs": [
    {
     "name": "stdout",
     "output_type": "stream",
     "text": [
      "              precision    recall  f1-score   support\n",
      "\n",
      "           0       0.95      0.98      0.96     43238\n",
      "           1       0.71      0.47      0.57      4595\n",
      "\n",
      "    accuracy                           0.93     47833\n",
      "   macro avg       0.83      0.72      0.76     47833\n",
      "weighted avg       0.92      0.93      0.92     47833\n",
      "\n"
     ]
    }
   ],
   "source": [
    "print(classification_report(y_test, y_preds))"
   ]
  },
  {
   "cell_type": "code",
   "execution_count": 27,
   "id": "9131863e",
   "metadata": {},
   "outputs": [
    {
     "name": "stdout",
     "output_type": "stream",
     "text": [
      "Hamming_loss : 6.909455815023101\n",
      "Accuracy : 93.09054418497689\n",
      "Log_loss : 2.3864559872086595\n"
     ]
    }
   ],
   "source": [
    " evaluate_score(y_test, y_preds)"
   ]
  },
  {
   "cell_type": "markdown",
   "id": "d2a6fe79",
   "metadata": {},
   "source": [
    "### 3. AdaBoost Classifier"
   ]
  },
  {
   "cell_type": "code",
   "execution_count": 23,
   "id": "9ca4ad6f",
   "metadata": {},
   "outputs": [
    {
     "data": {
      "text/plain": [
       "AdaBoostClassifier(base_estimator=ComplementNB())"
      ]
     },
     "execution_count": 23,
     "metadata": {},
     "output_type": "execute_result"
    }
   ],
   "source": [
    "model3 = AdaBoostClassifier(ComplementNB())\n",
    "model3.fit(X_train, y_train)"
   ]
  },
  {
   "cell_type": "code",
   "execution_count": 24,
   "id": "a0f10b27",
   "metadata": {},
   "outputs": [],
   "source": [
    "y_pred_ada = model3.predict(X_test)"
   ]
  },
  {
   "cell_type": "code",
   "execution_count": 25,
   "id": "a19b1c2f",
   "metadata": {},
   "outputs": [
    {
     "name": "stdout",
     "output_type": "stream",
     "text": [
      "              precision    recall  f1-score   support\n",
      "\n",
      "           0       0.92      1.00      0.96     43238\n",
      "           1       0.88      0.16      0.28      4595\n",
      "\n",
      "    accuracy                           0.92     47833\n",
      "   macro avg       0.90      0.58      0.62     47833\n",
      "weighted avg       0.91      0.92      0.89     47833\n",
      "\n"
     ]
    }
   ],
   "source": [
    "print(classification_report(y_test, y_pred_ada))"
   ]
  },
  {
   "cell_type": "code",
   "execution_count": 26,
   "id": "b46b0cda",
   "metadata": {},
   "outputs": [
    {
     "name": "stdout",
     "output_type": "stream",
     "text": [
      "Hamming_loss : 8.247444233060857\n",
      "Accuracy : 91.75255576693915\n",
      "Log_loss : 2.8485679768793144\n"
     ]
    }
   ],
   "source": [
    " evaluate_score(y_test, y_pred_ada)"
   ]
  },
  {
   "cell_type": "markdown",
   "id": "5cedd981",
   "metadata": {},
   "source": [
    "Ploting the **hamming-loss** and **log-loss** of different models, which we selected."
   ]
  },
  {
   "cell_type": "code",
   "execution_count": 33,
   "id": "ea6f1244",
   "metadata": {},
   "outputs": [
    {
     "data": {
      "image/png": "[encoded data removed]",
      "text/plain": [
       "<Figure size 432x288 with 1 Axes>"
      ]
     },
     "metadata": {
      "needs_background": "light"
     },
     "output_type": "display_data"
    }
   ],
   "source": [
    "x = ['model1','model2','model3']\n",
    "y = [7.93,6.90,8.24]\n",
    "colors = itertools.cycle(['b', 'g', 'r'])\n",
    "plt.ylabel('Hamming-Loss')\n",
    "plt.xlabel('Model-details')\n",
    "plt.xticks(rotation=90)\n",
    "for i in range(len(y)):\n",
    "    plt.bar(x[i], y[i], color=next(colors))\n",
    "plt.show()"
   ]
  },
  {
   "cell_type": "code",
   "execution_count": 34,
   "id": "afd83678",
   "metadata": {},
   "outputs": [
    {
     "data": {
      "image/png": "[encoded data removed]",
      "text/plain": [
       "<Figure size 432x288 with 1 Axes>"
      ]
     },
     "metadata": {
      "needs_background": "light"
     },
     "output_type": "display_data"
    }
   ],
   "source": [
    "x = ['model1','model2','model3']\n",
    "y = [2.74,2.38,2.84]\n",
    "colors = itertools.cycle(['b', 'g', 'r'])\n",
    "plt.ylabel('Log-Loss')\n",
    "plt.xlabel('Model-details')\n",
    "plt.xticks(rotation=90)\n",
    "for i in range(len(y)):\n",
    "    plt.bar(x[i], y[i], color=next(colors))\n",
    "plt.show()"
   ]
  },
  {
   "cell_type": "markdown",
   "id": "9e124e90",
   "metadata": {},
   "source": [
    "**If we compare all the models on basis of hamming-loss :**  \n",
    "The best model would be Complement Naive Bias Classifier model. It has a hamming-loss of 6.90 % only."
   ]
  },
  {
   "cell_type": "markdown",
   "id": "b5c78583",
   "metadata": {},
   "source": [
    "**If we compare all the models on basis of Log-loss :**  \n",
    "The best model will be the Complement Naive Bias Classifier model. It has a Log-loss of 2.38% only."
   ]
  },
  {
   "cell_type": "markdown",
   "id": "3bf3ffd9",
   "metadata": {},
   "source": [
    "## SAVING BEST MODEL"
   ]
  },
  {
   "cell_type": "code",
   "execution_count": 28,
   "id": "0c17cd68",
   "metadata": {},
   "outputs": [
    {
     "data": {
      "text/plain": [
       "['malginant-classification.pkl']"
      ]
     },
     "execution_count": 28,
     "metadata": {},
     "output_type": "execute_result"
    }
   ],
   "source": [
    "import joblib\n",
    "joblib.dump(model2, 'malginant-classification.pkl')"
   ]
  }
 ],
 "metadata": {
  "kernelspec": {
   "display_name": "Python 3",
   "language": "python",
   "name": "python3"
  },
  "language_info": {
   "codemirror_mode": {
    "name": "ipython",
    "version": 3
   },
   "file_extension": ".py",
   "mimetype": "text/x-python",
   "name": "python",
   "nbconvert_exporter": "python",
   "pygments_lexer": "ipython3",
   "version": "3.8.8"
  }
 },
 "nbformat": 4,
 "nbformat_minor": 5
}
